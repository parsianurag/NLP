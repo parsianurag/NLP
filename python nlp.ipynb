{
 "cells": [
  {
   "cell_type": "code",
   "execution_count": 22,
   "id": "aec5f5b5",
   "metadata": {},
   "outputs": [],
   "source": [
    "person=\"Anurag\""
   ]
  },
  {
   "cell_type": "code",
   "execution_count": 23,
   "id": "a2ef8620",
   "metadata": {},
   "outputs": [
    {
     "name": "stdout",
     "output_type": "stream",
     "text": [
      "my name is Anurag\n"
     ]
    }
   ],
   "source": [
    "print(\"my name is {}\".format(person))"
   ]
  },
  {
   "cell_type": "code",
   "execution_count": 24,
   "id": "9b2f7d2c",
   "metadata": {},
   "outputs": [
    {
     "name": "stdout",
     "output_type": "stream",
     "text": [
      "my name is Anurag\n"
     ]
    }
   ],
   "source": [
    "print(f\"my name is {person}\")"
   ]
  },
  {
   "cell_type": "code",
   "execution_count": 25,
   "id": "2c6380b2",
   "metadata": {},
   "outputs": [],
   "source": [
    "mylist=[0,1,2,3]"
   ]
  },
  {
   "cell_type": "code",
   "execution_count": 26,
   "id": "6ba71173",
   "metadata": {},
   "outputs": [
    {
     "name": "stdout",
     "output_type": "stream",
     "text": [
      "my number is 0\n"
     ]
    }
   ],
   "source": [
    "print(f\"my number is {mylist[0]}\")"
   ]
  },
  {
   "cell_type": "code",
   "execution_count": 27,
   "id": "5e03fa68",
   "metadata": {},
   "outputs": [],
   "source": [
    "library=[('Author','Topic','Pages'),('Twain','Rafting',601),('Feynman','Ancd',144)]"
   ]
  },
  {
   "cell_type": "code",
   "execution_count": 28,
   "id": "633cc0ce",
   "metadata": {},
   "outputs": [
    {
     "data": {
      "text/plain": [
       "[('Author', 'Topic', 'Pages'),\n",
       " ('Twain', 'Rafting', 601),\n",
       " ('Feynman', 'Ancd', 144)]"
      ]
     },
     "execution_count": 28,
     "metadata": {},
     "output_type": "execute_result"
    }
   ],
   "source": [
    "library"
   ]
  },
  {
   "cell_type": "code",
   "execution_count": 29,
   "id": "0463e30f",
   "metadata": {},
   "outputs": [
    {
     "name": "stdout",
     "output_type": "stream",
     "text": [
      "Author is Author\n",
      "Author is Twain\n",
      "Author is Feynman\n"
     ]
    }
   ],
   "source": [
    "for book in library:\n",
    "    print(f\"Author is {book[0]}\")"
   ]
  },
  {
   "cell_type": "code",
   "execution_count": 30,
   "id": "f5ef7f7a",
   "metadata": {},
   "outputs": [
    {
     "name": "stdout",
     "output_type": "stream",
     "text": [
      "Author    Topic                          -----Pages\n",
      "Twain     Rafting                        -------601\n",
      "Feynman   Ancd                           -------144\n"
     ]
    }
   ],
   "source": [
    "for author,topic,pages in library:\n",
    "    print(f\"{author:{10}}{topic:{30}} {pages:->{10}}\")"
   ]
  },
  {
   "cell_type": "code",
   "execution_count": 31,
   "id": "d7fc47b0",
   "metadata": {},
   "outputs": [],
   "source": [
    "from datetime import datetime"
   ]
  },
  {
   "cell_type": "code",
   "execution_count": 32,
   "id": "fddc2dcf",
   "metadata": {},
   "outputs": [],
   "source": [
    "today=datetime(year=2019,month=2,day=28)"
   ]
  },
  {
   "cell_type": "code",
   "execution_count": 33,
   "id": "a270d9fc",
   "metadata": {},
   "outputs": [
    {
     "name": "stdout",
     "output_type": "stream",
     "text": [
      "February 28, 2019\n"
     ]
    }
   ],
   "source": [
    "print(f\"{today:%B %d, %Y}\")"
   ]
  },
  {
   "cell_type": "code",
   "execution_count": 34,
   "id": "c4b73127",
   "metadata": {},
   "outputs": [
    {
     "data": {
      "text/plain": [
       "'C:\\\\Users\\\\parsi'"
      ]
     },
     "execution_count": 34,
     "metadata": {},
     "output_type": "execute_result"
    }
   ],
   "source": [
    "pwd"
   ]
  },
  {
   "cell_type": "code",
   "execution_count": 35,
   "id": "76bc69b5",
   "metadata": {},
   "outputs": [
    {
     "name": "stdout",
     "output_type": "stream",
     "text": [
      "Overwriting test.txt\n"
     ]
    }
   ],
   "source": [
    "%%writefile test.txt\n",
    "Hello,this is a quick file.\n",
    "this is second line of the txt file"
   ]
  },
  {
   "cell_type": "code",
   "execution_count": 36,
   "id": "53970110",
   "metadata": {},
   "outputs": [],
   "source": [
    "myfile=open('test.txt')"
   ]
  },
  {
   "cell_type": "code",
   "execution_count": 37,
   "id": "a27ae7f8",
   "metadata": {},
   "outputs": [
    {
     "data": {
      "text/plain": [
       "<_io.TextIOWrapper name='test.txt' mode='r' encoding='cp1252'>"
      ]
     },
     "execution_count": 37,
     "metadata": {},
     "output_type": "execute_result"
    }
   ],
   "source": [
    "myfile"
   ]
  },
  {
   "cell_type": "code",
   "execution_count": 38,
   "id": "2e0397ec",
   "metadata": {},
   "outputs": [
    {
     "data": {
      "text/plain": [
       "'Hello,this is a quick file.\\nthis is second line of the txt file\\n'"
      ]
     },
     "execution_count": 38,
     "metadata": {},
     "output_type": "execute_result"
    }
   ],
   "source": [
    "myfile.read()"
   ]
  },
  {
   "cell_type": "code",
   "execution_count": 39,
   "id": "49f7820d",
   "metadata": {},
   "outputs": [
    {
     "data": {
      "text/plain": [
       "''"
      ]
     },
     "execution_count": 39,
     "metadata": {},
     "output_type": "execute_result"
    }
   ],
   "source": [
    "myfile.read() #reading second time there is no second paragragf so it is empty"
   ]
  },
  {
   "cell_type": "code",
   "execution_count": 40,
   "id": "eb623fe4",
   "metadata": {},
   "outputs": [
    {
     "data": {
      "text/plain": [
       "0"
      ]
     },
     "execution_count": 40,
     "metadata": {},
     "output_type": "execute_result"
    }
   ],
   "source": [
    "myfile.seek(0)#this moves curser to zero now it can read from first line"
   ]
  },
  {
   "cell_type": "code",
   "execution_count": 41,
   "id": "802ee7f3",
   "metadata": {},
   "outputs": [],
   "source": [
    "myfile.close()"
   ]
  },
  {
   "cell_type": "code",
   "execution_count": 42,
   "id": "93078346",
   "metadata": {},
   "outputs": [],
   "source": [
    "myfile=open('test.txt')"
   ]
  },
  {
   "cell_type": "code",
   "execution_count": 43,
   "id": "471927a5",
   "metadata": {},
   "outputs": [],
   "source": [
    "myfiles=myfile.readlines()"
   ]
  },
  {
   "cell_type": "code",
   "execution_count": 44,
   "id": "94c17d6c",
   "metadata": {},
   "outputs": [
    {
     "name": "stdout",
     "output_type": "stream",
     "text": [
      "Hello,this\n",
      "this\n"
     ]
    }
   ],
   "source": [
    "for line in myfiles:\n",
    "    print(line.split()[0])"
   ]
  },
  {
   "cell_type": "code",
   "execution_count": 45,
   "id": "2c8544c9",
   "metadata": {},
   "outputs": [],
   "source": [
    "myfile=open('test.txt','w+')"
   ]
  },
  {
   "cell_type": "code",
   "execution_count": 46,
   "id": "678be62c",
   "metadata": {},
   "outputs": [
    {
     "data": {
      "text/plain": [
       "''"
      ]
     },
     "execution_count": 46,
     "metadata": {},
     "output_type": "execute_result"
    }
   ],
   "source": [
    "myfile.read()"
   ]
  },
  {
   "cell_type": "code",
   "execution_count": 47,
   "id": "2005bea0",
   "metadata": {},
   "outputs": [
    {
     "data": {
      "text/plain": [
       "17"
      ]
     },
     "execution_count": 47,
     "metadata": {},
     "output_type": "execute_result"
    }
   ],
   "source": [
    "myfile.write(\"MY BRAND NEW TEXT\")"
   ]
  },
  {
   "cell_type": "code",
   "execution_count": 48,
   "id": "bcbb50ed",
   "metadata": {},
   "outputs": [
    {
     "data": {
      "text/plain": [
       "0"
      ]
     },
     "execution_count": 48,
     "metadata": {},
     "output_type": "execute_result"
    }
   ],
   "source": [
    "myfile.seek(0) #the curser will reached to zero index"
   ]
  },
  {
   "cell_type": "code",
   "execution_count": 49,
   "id": "5bc14c6d",
   "metadata": {},
   "outputs": [
    {
     "data": {
      "text/plain": [
       "'MY BRAND NEW TEXT'"
      ]
     },
     "execution_count": 49,
     "metadata": {},
     "output_type": "execute_result"
    }
   ],
   "source": [
    "myfile.read()#its overwrite the all sentences "
   ]
  },
  {
   "cell_type": "code",
   "execution_count": 50,
   "id": "9b758f79",
   "metadata": {},
   "outputs": [],
   "source": [
    "myfile.close()"
   ]
  },
  {
   "cell_type": "code",
   "execution_count": 51,
   "id": "02a8775f",
   "metadata": {},
   "outputs": [],
   "source": [
    "myfile=open('whoops.txt','a+')# this a+ can create a new file also  "
   ]
  },
  {
   "cell_type": "code",
   "execution_count": 52,
   "id": "612a42cd",
   "metadata": {},
   "outputs": [
    {
     "data": {
      "text/plain": [
       "27"
      ]
     },
     "execution_count": 52,
     "metadata": {},
     "output_type": "execute_result"
    }
   ],
   "source": [
    "myfile.write('MY FIRST LINE IN A+ OPENING')"
   ]
  },
  {
   "cell_type": "code",
   "execution_count": 53,
   "id": "112e024a",
   "metadata": {},
   "outputs": [
    {
     "data": {
      "text/plain": [
       "0"
      ]
     },
     "execution_count": 53,
     "metadata": {},
     "output_type": "execute_result"
    }
   ],
   "source": [
    "myfile.seek(0)"
   ]
  },
  {
   "cell_type": "code",
   "execution_count": 54,
   "id": "f73f985b",
   "metadata": {},
   "outputs": [
    {
     "data": {
      "text/plain": [
       "'MY FIRST LINE IN A+ OPENINGMY FIRST LINE IN A+ OPENINGThis is an added line,because I used a+ mode\\nThis is a real new line,on the next lineMY FIRST LINE IN A+ OPENING'"
      ]
     },
     "execution_count": 54,
     "metadata": {},
     "output_type": "execute_result"
    }
   ],
   "source": [
    "myfile.read()"
   ]
  },
  {
   "cell_type": "code",
   "execution_count": 55,
   "id": "7804d091",
   "metadata": {},
   "outputs": [],
   "source": [
    "myfile.close()"
   ]
  },
  {
   "cell_type": "code",
   "execution_count": null,
   "id": "02fa812f",
   "metadata": {},
   "outputs": [],
   "source": []
  },
  {
   "cell_type": "code",
   "execution_count": 56,
   "id": "cc01a029",
   "metadata": {},
   "outputs": [],
   "source": [
    "newfile=open('whoops.txt')"
   ]
  },
  {
   "cell_type": "code",
   "execution_count": 57,
   "id": "28b153f8",
   "metadata": {},
   "outputs": [
    {
     "data": {
      "text/plain": [
       "'MY FIRST LINE IN A+ OPENINGMY FIRST LINE IN A+ OPENINGThis is an added line,because I used a+ mode\\nThis is a real new line,on the next lineMY FIRST LINE IN A+ OPENING'"
      ]
     },
     "execution_count": 57,
     "metadata": {},
     "output_type": "execute_result"
    }
   ],
   "source": [
    "newfile.read()"
   ]
  },
  {
   "cell_type": "code",
   "execution_count": 58,
   "id": "8297bd57",
   "metadata": {},
   "outputs": [
    {
     "data": {
      "text/plain": [
       "<_io.TextIOWrapper name='whoops.txt' mode='r' encoding='cp1252'>"
      ]
     },
     "execution_count": 58,
     "metadata": {},
     "output_type": "execute_result"
    }
   ],
   "source": [
    "newfile"
   ]
  },
  {
   "cell_type": "code",
   "execution_count": 59,
   "id": "228c6866",
   "metadata": {},
   "outputs": [],
   "source": [
    "newfile.close()"
   ]
  },
  {
   "cell_type": "code",
   "execution_count": 60,
   "id": "8eb42c3f",
   "metadata": {},
   "outputs": [],
   "source": [
    "myfile=open('whoops.txt',mode='a+')"
   ]
  },
  {
   "cell_type": "code",
   "execution_count": 61,
   "id": "cbc2574d",
   "metadata": {},
   "outputs": [
    {
     "data": {
      "text/plain": [
       "44"
      ]
     },
     "execution_count": 61,
     "metadata": {},
     "output_type": "execute_result"
    }
   ],
   "source": [
    "myfile.write('This is an added line,because I used a+ mode')"
   ]
  },
  {
   "cell_type": "code",
   "execution_count": 62,
   "id": "ee1eec7f",
   "metadata": {},
   "outputs": [
    {
     "data": {
      "text/plain": [
       "0"
      ]
     },
     "execution_count": 62,
     "metadata": {},
     "output_type": "execute_result"
    }
   ],
   "source": [
    "myfile.seek(0)"
   ]
  },
  {
   "cell_type": "code",
   "execution_count": 63,
   "id": "02feabd9",
   "metadata": {},
   "outputs": [
    {
     "data": {
      "text/plain": [
       "'MY FIRST LINE IN A+ OPENINGMY FIRST LINE IN A+ OPENINGThis is an added line,because I used a+ mode\\nThis is a real new line,on the next lineMY FIRST LINE IN A+ OPENINGThis is an added line,because I used a+ mode'"
      ]
     },
     "execution_count": 63,
     "metadata": {},
     "output_type": "execute_result"
    }
   ],
   "source": [
    "myfile.read()"
   ]
  },
  {
   "cell_type": "code",
   "execution_count": 64,
   "id": "68835cbe",
   "metadata": {},
   "outputs": [
    {
     "data": {
      "text/plain": [
       "41"
      ]
     },
     "execution_count": 64,
     "metadata": {},
     "output_type": "execute_result"
    }
   ],
   "source": [
    "myfile.write(\"\\nThis is a real new line,on the next line\")"
   ]
  },
  {
   "cell_type": "code",
   "execution_count": 65,
   "id": "8cf4d033",
   "metadata": {},
   "outputs": [
    {
     "data": {
      "text/plain": [
       "0"
      ]
     },
     "execution_count": 65,
     "metadata": {},
     "output_type": "execute_result"
    }
   ],
   "source": [
    "myfile.seek(0)"
   ]
  },
  {
   "cell_type": "code",
   "execution_count": 66,
   "id": "b008d2f2",
   "metadata": {},
   "outputs": [
    {
     "data": {
      "text/plain": [
       "'MY FIRST LINE IN A+ OPENINGMY FIRST LINE IN A+ OPENINGThis is an added line,because I used a+ mode\\nThis is a real new line,on the next lineMY FIRST LINE IN A+ OPENINGThis is an added line,because I used a+ mode\\nThis is a real new line,on the next line'"
      ]
     },
     "execution_count": 66,
     "metadata": {},
     "output_type": "execute_result"
    }
   ],
   "source": [
    "myfile.read()"
   ]
  },
  {
   "cell_type": "code",
   "execution_count": 67,
   "id": "339af219",
   "metadata": {},
   "outputs": [
    {
     "data": {
      "text/plain": [
       "0"
      ]
     },
     "execution_count": 67,
     "metadata": {},
     "output_type": "execute_result"
    }
   ],
   "source": [
    "myfile.seek(0)"
   ]
  },
  {
   "cell_type": "code",
   "execution_count": 68,
   "id": "17d4b9ed",
   "metadata": {},
   "outputs": [
    {
     "name": "stdout",
     "output_type": "stream",
     "text": [
      "MY FIRST LINE IN A+ OPENINGMY FIRST LINE IN A+ OPENINGThis is an added line,because I used a+ mode\n",
      "This is a real new line,on the next lineMY FIRST LINE IN A+ OPENINGThis is an added line,because I used a+ mode\n",
      "This is a real new line,on the next line\n"
     ]
    }
   ],
   "source": [
    "print(myfile.read())"
   ]
  },
  {
   "cell_type": "code",
   "execution_count": 69,
   "id": "83643516",
   "metadata": {},
   "outputs": [],
   "source": [
    "myfile.close()"
   ]
  },
  {
   "cell_type": "code",
   "execution_count": 70,
   "id": "ed02ef42",
   "metadata": {},
   "outputs": [],
   "source": [
    "with open('whoops.txt','r') as mynewfile:\n",
    "    myvariable=mynewfile.readlines()     #it will close automatically "
   ]
  },
  {
   "cell_type": "code",
   "execution_count": 71,
   "id": "dab2e318",
   "metadata": {},
   "outputs": [
    {
     "data": {
      "text/plain": [
       "['MY FIRST LINE IN A+ OPENINGMY FIRST LINE IN A+ OPENINGThis is an added line,because I used a+ mode\\n',\n",
       " 'This is a real new line,on the next lineMY FIRST LINE IN A+ OPENINGThis is an added line,because I used a+ mode\\n',\n",
       " 'This is a real new line,on the next line']"
      ]
     },
     "execution_count": 71,
     "metadata": {},
     "output_type": "execute_result"
    }
   ],
   "source": [
    "myvariable"
   ]
  },
  {
   "cell_type": "code",
   "execution_count": 72,
   "id": "709b0b8d",
   "metadata": {},
   "outputs": [],
   "source": [
    "#PDFS MODE"
   ]
  },
  {
   "cell_type": "code",
   "execution_count": 73,
   "id": "96604f2f",
   "metadata": {},
   "outputs": [
    {
     "name": "stdout",
     "output_type": "stream",
     "text": [
      "Defaulting to user installation because normal site-packages is not writeable\n",
      "Requirement already satisfied: PyPDF2 in c:\\users\\parsi\\appdata\\roaming\\python\\python39\\site-packages (3.0.1)\n",
      "Requirement already satisfied: typing_extensions>=3.10.0.0 in c:\\users\\parsi\\appdata\\roaming\\python\\python39\\site-packages (from PyPDF2) (4.9.0)\n"
     ]
    }
   ],
   "source": [
    "!pip install PyPDF2"
   ]
  },
  {
   "cell_type": "code",
   "execution_count": 74,
   "id": "c89d6feb",
   "metadata": {},
   "outputs": [],
   "source": [
    "import PyPDF2"
   ]
  },
  {
   "cell_type": "code",
   "execution_count": 75,
   "id": "672e0010",
   "metadata": {},
   "outputs": [],
   "source": [
    "myfile=open('degree works.pdf',mode='rb')"
   ]
  },
  {
   "cell_type": "code",
   "execution_count": 76,
   "id": "15edf2cb",
   "metadata": {},
   "outputs": [],
   "source": [
    "pdf_reader=PyPDF2.PdfReader(myfile)"
   ]
  },
  {
   "cell_type": "code",
   "execution_count": 77,
   "id": "8aaa3c15",
   "metadata": {},
   "outputs": [
    {
     "data": {
      "text/plain": [
       "3"
      ]
     },
     "execution_count": 77,
     "metadata": {},
     "output_type": "execute_result"
    }
   ],
   "source": [
    "len(pdf_reader.pages)"
   ]
  },
  {
   "cell_type": "code",
   "execution_count": 78,
   "id": "7fcd4457",
   "metadata": {},
   "outputs": [],
   "source": [
    "page_one=pdf_reader.pages[1]"
   ]
  },
  {
   "cell_type": "code",
   "execution_count": 79,
   "id": "281dd175",
   "metadata": {},
   "outputs": [
    {
     "name": "stdout",
     "output_type": "stream",
     "text": [
      "New England College Parsi, Anurag - GR019867\n",
      "Data Mining for Data Science and Analytics CT 5320 Data Mining for Data Sci&Anlyc A 47-Week Summer I\n",
      "2023\n",
      "Database Design CT 5610 Intro to Data Science/Math DS T 47-Week Spring I\n",
      "2023\n",
      "Satisfied by: - University of New Haven\n",
      "Information Visualization CT 6440 Information Visualization B- 47-Week Spring II\n",
      "2023\n",
      "Python Programming CT 6530 Python Programming A 47-Week Fall I\n",
      "2023\n",
      "Machine Learning for Data Science and Analytics CT 6915 Machine Learning Data Science A 47-Week Fall II\n",
      "2023\n",
      "Data Analytics Electives: Select 16 credits CT 6110 IT Project Management B+ 47-Week Spring I\n",
      "2023\n",
      "CT 6111 Information Security IP (4)7-Week Spring I\n",
      "2024\n",
      "CT 6670 Network Communications IP (4)7-Week Spring II\n",
      "2024\n",
      "CT 5990 Intro Artificial Intel/Math DS T 47-Week Spring I\n",
      "2023\n",
      "Satisfied by: - University of New Haven\n",
      " \n",
      "Exception by: Lattner, Alexandria J   On: 01/13/2023   Also Allow:  Course approved for elective\n",
      "transfer to DSA. \n",
      "In-progress and Preregistered Credits applied: 8 Classes applied: 2\n",
      "Course Title Grade Credits Term\n",
      "CT 6111 Information Security IP (4) 7-Week Spring I 2024\n",
      "CT 6670 Network Communications IP (4) 7-Week Spring II 2024\n",
      " \n",
      "Exceptions\n",
      "Type Description Created on Created by Block Enforced\n",
      "Also Allow Course approved for elective\n",
      "transfer to DSA.01/13/2023 Lattner, Alexandria J Major in Data Sci & Anlytcs, MS\n",
      "(Henniker/Online)Yes\n",
      " \n",
      "Legend\n",
      "Complete Not complete\n",
      "Complete (with classes in-progress) Nearly complete - see advisor\n",
      "Prerequsite @ Any course number\n",
      "Disclaimer\n",
      "You are encouraged to use this degree audit report as a guide when planning your progress toward completion of the above requirements. Your academic advisor or the Registrar's Office may be contacted for\n",
      "assistance in interpreting this report. This audit is not your academic transcript and it is not official notification of completion of degree or certificate requirements. Please contact the Registrar's Office regarding\n",
      "this degree audit report, your official degree/certificate completion status, or to obtain a copy of your academic transcript. \n",
      " \n"
     ]
    }
   ],
   "source": [
    "print(page_one.extract_text())"
   ]
  },
  {
   "cell_type": "code",
   "execution_count": 80,
   "id": "a7472862",
   "metadata": {},
   "outputs": [],
   "source": [
    "myfile.close()"
   ]
  },
  {
   "cell_type": "code",
   "execution_count": 81,
   "id": "1cdeb58a",
   "metadata": {},
   "outputs": [],
   "source": [
    "f=open('degree works.pdf','rb')"
   ]
  },
  {
   "cell_type": "code",
   "execution_count": 82,
   "id": "9d104cec",
   "metadata": {},
   "outputs": [],
   "source": [
    "pdf_reader=PyPDF2.PdfReader(f)"
   ]
  },
  {
   "cell_type": "code",
   "execution_count": 83,
   "id": "b8bfe286",
   "metadata": {},
   "outputs": [],
   "source": [
    "fisrt_page=pdf_reader.pages[0]"
   ]
  },
  {
   "cell_type": "code",
   "execution_count": 84,
   "id": "6f2513d6",
   "metadata": {},
   "outputs": [],
   "source": [
    "pdf_writer=PyPDF2.PdfWriter()"
   ]
  },
  {
   "cell_type": "code",
   "execution_count": 85,
   "id": "fac7644f",
   "metadata": {},
   "outputs": [
    {
     "data": {
      "text/plain": [
       "{'/BleedBox': [0, 0, 612, 792],\n",
       " '/Contents': [IndirectObject(6, 0, 1875648200656)],\n",
       " '/CropBox': [0, 0, 612, 792],\n",
       " '/MediaBox': [0, 0, 612, 792],\n",
       " '/Resources': {'/ColorSpace': {'/DefaultRGB': ['/ICCBased',\n",
       "    IndirectObject(9, 0, 1875648200656)]},\n",
       "  '/Font': {'/F1': {'/BaseFont': '/Helvetica',\n",
       "    '/Encoding': '/WinAnsiEncoding',\n",
       "    '/Subtype': '/Type1',\n",
       "    '/Type': '/Font'},\n",
       "   '/F3': {'/BaseFont': '/Helvetica-Bold',\n",
       "    '/Encoding': '/WinAnsiEncoding',\n",
       "    '/Subtype': '/Type1',\n",
       "    '/Type': '/Font'}},\n",
       "  '/ProcSet': ['/PDF', '/ImageB', '/ImageC', '/Text'],\n",
       "  '/XObject': {}},\n",
       " '/TrimBox': [0, 0, 612, 792],\n",
       " '/Type': '/Page',\n",
       " '/Parent': {'/Type': '/Pages',\n",
       "  '/Count': 1,\n",
       "  '/Kids': [IndirectObject(4, 0, 1875648200656)]}}"
      ]
     },
     "execution_count": 85,
     "metadata": {},
     "output_type": "execute_result"
    }
   ],
   "source": [
    "pdf_writer.add_page(fisrt_page)"
   ]
  },
  {
   "cell_type": "code",
   "execution_count": 86,
   "id": "d93e8a36",
   "metadata": {},
   "outputs": [],
   "source": [
    "pdf_output=open('MY_Brand_new.pdf','wb')"
   ]
  },
  {
   "cell_type": "code",
   "execution_count": 87,
   "id": "a5ab4d49",
   "metadata": {},
   "outputs": [
    {
     "data": {
      "text/plain": [
       "(False, <_io.BufferedWriter name='MY_Brand_new.pdf'>)"
      ]
     },
     "execution_count": 87,
     "metadata": {},
     "output_type": "execute_result"
    }
   ],
   "source": [
    "pdf_writer.write(pdf_output)"
   ]
  },
  {
   "cell_type": "code",
   "execution_count": 88,
   "id": "404da262",
   "metadata": {},
   "outputs": [],
   "source": [
    "pdf_output.close()"
   ]
  },
  {
   "cell_type": "code",
   "execution_count": 89,
   "id": "67463e6d",
   "metadata": {},
   "outputs": [],
   "source": [
    "f.close()"
   ]
  },
  {
   "cell_type": "code",
   "execution_count": 90,
   "id": "cd3f76e9",
   "metadata": {},
   "outputs": [],
   "source": [
    "brand_new=open('MY_Brand_new.pdf','rb')\n",
    "pdf_reader=PyPDF2.PdfReader(brand_new)"
   ]
  },
  {
   "cell_type": "code",
   "execution_count": 91,
   "id": "c2241207",
   "metadata": {},
   "outputs": [
    {
     "data": {
      "text/plain": [
       "1"
      ]
     },
     "execution_count": 91,
     "metadata": {},
     "output_type": "execute_result"
    }
   ],
   "source": [
    "len(pdf_reader.pages)"
   ]
  },
  {
   "cell_type": "code",
   "execution_count": 92,
   "id": "d8dc4451",
   "metadata": {},
   "outputs": [],
   "source": [
    "f=open('degree works.pdf','rb')\n",
    "pdf_text=[0]\n",
    "pdf_reader=PyPDF2.PdfReader(f)\n",
    "for p in range(len(pdf_reader.pages)):\n",
    "    page=pdf_reader.pages[p]\n",
    "    pdf_text.append(page.extract_text())\n",
    "f.close()        "
   ]
  },
  {
   "cell_type": "code",
   "execution_count": 93,
   "id": "e231bb6b",
   "metadata": {},
   "outputs": [
    {
     "data": {
      "text/plain": [
       "[0,\n",
       " \"New England College Parsi, Anurag - GR019867\\nNew England College\\nStudent name Parsi, Anurag\\nStudent ID GR019867\\nDegree Master of Science\\nAudit date 02/19/2024  6:43 PM\\n \\nLevel Graduate   Classification Second Year Graduate Student   Program MS, Data Science and Analytics (Henniker/Online)   Major Data Science &\\nAnalytics, MS (Hennikr/Exec/Online)   Advisor Bethany Jones, Richard Mitchell   Total Credits Earned 28   \\n \\nMaster of Science Degree IN-PROGRESS\\nCredits required: 36 Credits applied:  36 Catalog year:  Academic Year 2022-2023 GPA: 3.60\\nStudents who have already earned a graduate degree from New England College may be eligible to use up to 50% of credits earned in the first degree toward\\nthe second degree if applicable. No transfer credits may be used toward more than one graduate degree at New England College.\\nMinimum Total Program Credit Hours Required\\nYou meet the minimum overall 3.0 GPA\\nrequirement.\\n Final course grades of C+ or below will not meet graduate degree requirements. Students will need\\nto repeat any course in which they received a grade of C+ or below.  \\nMajor Requirements\\n If the information included in this audit appears to be incorrect or inaccurate, please contact the\\nRegistrar's office for assistance by calling 603-428-2203 or emailing registrarsoffice@nec.edu  \\nBlocks included in this block\\nIntent to Graduate Application\\nMajor in Data Sci & Anlytcs, MS (Henniker/Online) \\nIntent to Graduate Application COMPLETE\\nCatalog year:  Academic Year 2022-2023 GPA: 0.00\\nFile your Intent to Graduate form approximately 1 year before your anticipated graduation date for undergraduate degrees or 6 months for graduate degrees.\\nAll coursework must be successfully completed and all requirements met for your degree to be awarded. Please refer to the academic catalog for the college's\\nconferral dates and graduation requirements. Any anticipated graduation date listed on this audit is based on your Intent to Graduate form submission and is\\nnot a guaranteed graduation date. You must notify the Registrar's Office of any changes to your anticipated graduation date.\\nIntent to Graduate Form Submitted\\nAnticipated Graduation: May\\n \\nMajor in Data Sci & Anlytcs, MS (Henniker/Online) IN-PROGRESS\\nCredits required: 36 Credits applied:  36 Catalog year:  Academic Year 2022-2023 GPA: 3.60\\nCourse Title GradeCreditsTerm\\nMinimum Major Credit Hours Required\",\n",
       " \"New England College Parsi, Anurag - GR019867\\nData Mining for Data Science and Analytics CT 5320 Data Mining for Data Sci&Anlyc A 47-Week Summer I\\n2023\\nDatabase Design CT 5610 Intro to Data Science/Math DS T 47-Week Spring I\\n2023\\nSatisfied by: - University of New Haven\\nInformation Visualization CT 6440 Information Visualization B- 47-Week Spring II\\n2023\\nPython Programming CT 6530 Python Programming A 47-Week Fall I\\n2023\\nMachine Learning for Data Science and Analytics CT 6915 Machine Learning Data Science A 47-Week Fall II\\n2023\\nData Analytics Electives: Select 16 credits CT 6110 IT Project Management B+ 47-Week Spring I\\n2023\\nCT 6111 Information Security IP (4)7-Week Spring I\\n2024\\nCT 6670 Network Communications IP (4)7-Week Spring II\\n2024\\nCT 5990 Intro Artificial Intel/Math DS T 47-Week Spring I\\n2023\\nSatisfied by: - University of New Haven\\n \\nException by: Lattner, Alexandria J   On: 01/13/2023   Also Allow:  Course approved for elective\\ntransfer to DSA. \\nIn-progress and Preregistered Credits applied: 8 Classes applied: 2\\nCourse Title Grade Credits Term\\nCT 6111 Information Security IP (4) 7-Week Spring I 2024\\nCT 6670 Network Communications IP (4) 7-Week Spring II 2024\\n \\nExceptions\\nType Description Created on Created by Block Enforced\\nAlso Allow Course approved for elective\\ntransfer to DSA.01/13/2023 Lattner, Alexandria J Major in Data Sci & Anlytcs, MS\\n(Henniker/Online)Yes\\n \\nLegend\\nComplete Not complete\\nComplete (with classes in-progress) Nearly complete - see advisor\\nPrerequsite @ Any course number\\nDisclaimer\\nYou are encouraged to use this degree audit report as a guide when planning your progress toward completion of the above requirements. Your academic advisor or the Registrar's Office may be contacted for\\nassistance in interpreting this report. This audit is not your academic transcript and it is not official notification of completion of degree or certificate requirements. Please contact the Registrar's Office regarding\\nthis degree audit report, your official degree/certificate completion status, or to obtain a copy of your academic transcript. \\n \",\n",
       " 'New England College Parsi, Anurag - GR019867\\nEllucian Degree Works - Copyright 1995-2022 Ellucian Company L.P. and its affiliates']"
      ]
     },
     "execution_count": 93,
     "metadata": {},
     "output_type": "execute_result"
    }
   ],
   "source": [
    "pdf_text"
   ]
  },
  {
   "cell_type": "code",
   "execution_count": 94,
   "id": "dbe03eeb",
   "metadata": {},
   "outputs": [
    {
     "name": "stdout",
     "output_type": "stream",
     "text": [
      "0\n",
      "\n",
      "\n",
      "\n",
      "\n",
      "\n",
      "\n",
      "\n",
      "\n",
      "New England College Parsi, Anurag - GR019867\n",
      "New England College\n",
      "Student name Parsi, Anurag\n",
      "Student ID GR019867\n",
      "Degree Master of Science\n",
      "Audit date 02/19/2024  6:43 PM\n",
      " \n",
      "Level Graduate   Classification Second Year Graduate Student   Program MS, Data Science and Analytics (Henniker/Online)   Major Data Science &\n",
      "Analytics, MS (Hennikr/Exec/Online)   Advisor Bethany Jones, Richard Mitchell   Total Credits Earned 28   \n",
      " \n",
      "Master of Science Degree IN-PROGRESS\n",
      "Credits required: 36 Credits applied:  36 Catalog year:  Academic Year 2022-2023 GPA: 3.60\n",
      "Students who have already earned a graduate degree from New England College may be eligible to use up to 50% of credits earned in the first degree toward\n",
      "the second degree if applicable. No transfer credits may be used toward more than one graduate degree at New England College.\n",
      "Minimum Total Program Credit Hours Required\n",
      "You meet the minimum overall 3.0 GPA\n",
      "requirement.\n",
      " Final course grades of C+ or below will not meet graduate degree requirements. Students will need\n",
      "to repeat any course in which they received a grade of C+ or below.  \n",
      "Major Requirements\n",
      " If the information included in this audit appears to be incorrect or inaccurate, please contact the\n",
      "Registrar's office for assistance by calling 603-428-2203 or emailing registrarsoffice@nec.edu  \n",
      "Blocks included in this block\n",
      "Intent to Graduate Application\n",
      "Major in Data Sci & Anlytcs, MS (Henniker/Online) \n",
      "Intent to Graduate Application COMPLETE\n",
      "Catalog year:  Academic Year 2022-2023 GPA: 0.00\n",
      "File your Intent to Graduate form approximately 1 year before your anticipated graduation date for undergraduate degrees or 6 months for graduate degrees.\n",
      "All coursework must be successfully completed and all requirements met for your degree to be awarded. Please refer to the academic catalog for the college's\n",
      "conferral dates and graduation requirements. Any anticipated graduation date listed on this audit is based on your Intent to Graduate form submission and is\n",
      "not a guaranteed graduation date. You must notify the Registrar's Office of any changes to your anticipated graduation date.\n",
      "Intent to Graduate Form Submitted\n",
      "Anticipated Graduation: May\n",
      " \n",
      "Major in Data Sci & Anlytcs, MS (Henniker/Online) IN-PROGRESS\n",
      "Credits required: 36 Credits applied:  36 Catalog year:  Academic Year 2022-2023 GPA: 3.60\n",
      "Course Title GradeCreditsTerm\n",
      "Minimum Major Credit Hours Required\n",
      "\n",
      "\n",
      "\n",
      "\n",
      "\n",
      "\n",
      "\n",
      "\n",
      "New England College Parsi, Anurag - GR019867\n",
      "Data Mining for Data Science and Analytics CT 5320 Data Mining for Data Sci&Anlyc A 47-Week Summer I\n",
      "2023\n",
      "Database Design CT 5610 Intro to Data Science/Math DS T 47-Week Spring I\n",
      "2023\n",
      "Satisfied by: - University of New Haven\n",
      "Information Visualization CT 6440 Information Visualization B- 47-Week Spring II\n",
      "2023\n",
      "Python Programming CT 6530 Python Programming A 47-Week Fall I\n",
      "2023\n",
      "Machine Learning for Data Science and Analytics CT 6915 Machine Learning Data Science A 47-Week Fall II\n",
      "2023\n",
      "Data Analytics Electives: Select 16 credits CT 6110 IT Project Management B+ 47-Week Spring I\n",
      "2023\n",
      "CT 6111 Information Security IP (4)7-Week Spring I\n",
      "2024\n",
      "CT 6670 Network Communications IP (4)7-Week Spring II\n",
      "2024\n",
      "CT 5990 Intro Artificial Intel/Math DS T 47-Week Spring I\n",
      "2023\n",
      "Satisfied by: - University of New Haven\n",
      " \n",
      "Exception by: Lattner, Alexandria J   On: 01/13/2023   Also Allow:  Course approved for elective\n",
      "transfer to DSA. \n",
      "In-progress and Preregistered Credits applied: 8 Classes applied: 2\n",
      "Course Title Grade Credits Term\n",
      "CT 6111 Information Security IP (4) 7-Week Spring I 2024\n",
      "CT 6670 Network Communications IP (4) 7-Week Spring II 2024\n",
      " \n",
      "Exceptions\n",
      "Type Description Created on Created by Block Enforced\n",
      "Also Allow Course approved for elective\n",
      "transfer to DSA.01/13/2023 Lattner, Alexandria J Major in Data Sci & Anlytcs, MS\n",
      "(Henniker/Online)Yes\n",
      " \n",
      "Legend\n",
      "Complete Not complete\n",
      "Complete (with classes in-progress) Nearly complete - see advisor\n",
      "Prerequsite @ Any course number\n",
      "Disclaimer\n",
      "You are encouraged to use this degree audit report as a guide when planning your progress toward completion of the above requirements. Your academic advisor or the Registrar's Office may be contacted for\n",
      "assistance in interpreting this report. This audit is not your academic transcript and it is not official notification of completion of degree or certificate requirements. Please contact the Registrar's Office regarding\n",
      "this degree audit report, your official degree/certificate completion status, or to obtain a copy of your academic transcript. \n",
      " \n",
      "\n",
      "\n",
      "\n",
      "\n",
      "\n",
      "\n",
      "\n",
      "\n",
      "New England College Parsi, Anurag - GR019867\n",
      "Ellucian Degree Works - Copyright 1995-2022 Ellucian Company L.P. and its affiliates\n",
      "\n",
      "\n",
      "\n",
      "\n",
      "\n",
      "\n",
      "\n",
      "\n"
     ]
    }
   ],
   "source": [
    "for page in pdf_text:\n",
    "    print(page)\n",
    "    print('\\n')\n",
    "    print('\\n')\n",
    "    print('\\n')\n",
    "    print('\\n')\n",
    "        "
   ]
  },
  {
   "cell_type": "code",
   "execution_count": 95,
   "id": "fc38928d",
   "metadata": {},
   "outputs": [],
   "source": [
    "#######Regular Expression"
   ]
  },
  {
   "cell_type": "code",
   "execution_count": 96,
   "id": "cf416d3a",
   "metadata": {},
   "outputs": [],
   "source": [
    "text=\"The phone number of the agent is 408-555-1234. Call soon!\""
   ]
  },
  {
   "cell_type": "code",
   "execution_count": 97,
   "id": "66511ea9",
   "metadata": {},
   "outputs": [
    {
     "data": {
      "text/plain": [
       "True"
      ]
     },
     "execution_count": 97,
     "metadata": {},
     "output_type": "execute_result"
    }
   ],
   "source": [
    "\"408-555-1234\" in text"
   ]
  },
  {
   "cell_type": "code",
   "execution_count": 98,
   "id": "c73b54a9",
   "metadata": {},
   "outputs": [],
   "source": [
    "import re"
   ]
  },
  {
   "cell_type": "code",
   "execution_count": 99,
   "id": "2ff96459",
   "metadata": {},
   "outputs": [],
   "source": [
    "pattern=\"phone\""
   ]
  },
  {
   "cell_type": "code",
   "execution_count": 100,
   "id": "e5cb6a79",
   "metadata": {},
   "outputs": [
    {
     "data": {
      "text/plain": [
       "<re.Match object; span=(4, 9), match='phone'>"
      ]
     },
     "execution_count": 100,
     "metadata": {},
     "output_type": "execute_result"
    }
   ],
   "source": [
    "re.search(pattern,text)"
   ]
  },
  {
   "cell_type": "code",
   "execution_count": 101,
   "id": "8f99bd09",
   "metadata": {},
   "outputs": [],
   "source": [
    "my_match=re.search(pattern,text)"
   ]
  },
  {
   "cell_type": "code",
   "execution_count": 102,
   "id": "82e12758",
   "metadata": {},
   "outputs": [
    {
     "data": {
      "text/plain": [
       "(4, 9)"
      ]
     },
     "execution_count": 102,
     "metadata": {},
     "output_type": "execute_result"
    }
   ],
   "source": [
    "my_match.span() #the match is from index of 4 to 9 "
   ]
  },
  {
   "cell_type": "code",
   "execution_count": 103,
   "id": "1e50f00f",
   "metadata": {},
   "outputs": [
    {
     "data": {
      "text/plain": [
       "4"
      ]
     },
     "execution_count": 103,
     "metadata": {},
     "output_type": "execute_result"
    }
   ],
   "source": [
    "my_match.start()"
   ]
  },
  {
   "cell_type": "code",
   "execution_count": 104,
   "id": "ca7acc8c",
   "metadata": {},
   "outputs": [
    {
     "data": {
      "text/plain": [
       "9"
      ]
     },
     "execution_count": 104,
     "metadata": {},
     "output_type": "execute_result"
    }
   ],
   "source": [
    "my_match.end()"
   ]
  },
  {
   "cell_type": "code",
   "execution_count": 105,
   "id": "ce7a75bd",
   "metadata": {},
   "outputs": [],
   "source": [
    "text=\"my phone is a new phone\""
   ]
  },
  {
   "cell_type": "code",
   "execution_count": 106,
   "id": "0360782c",
   "metadata": {},
   "outputs": [],
   "source": [
    "match=re.search(pattern,text)"
   ]
  },
  {
   "cell_type": "code",
   "execution_count": 107,
   "id": "2b0a48ee",
   "metadata": {},
   "outputs": [
    {
     "data": {
      "text/plain": [
       "(3, 8)"
      ]
     },
     "execution_count": 107,
     "metadata": {},
     "output_type": "execute_result"
    }
   ],
   "source": [
    "match.span() #it only find match of the first string"
   ]
  },
  {
   "cell_type": "code",
   "execution_count": 108,
   "id": "d41fa134",
   "metadata": {},
   "outputs": [],
   "source": [
    "all_matches=re.findall(\"phone\",text)"
   ]
  },
  {
   "cell_type": "code",
   "execution_count": 109,
   "id": "3ce44922",
   "metadata": {},
   "outputs": [
    {
     "data": {
      "text/plain": [
       "2"
      ]
     },
     "execution_count": 109,
     "metadata": {},
     "output_type": "execute_result"
    }
   ],
   "source": [
    "len(all_matches)"
   ]
  },
  {
   "cell_type": "code",
   "execution_count": 110,
   "id": "68f3c463",
   "metadata": {},
   "outputs": [
    {
     "name": "stdout",
     "output_type": "stream",
     "text": [
      "(3, 8)\n",
      "(18, 23)\n"
     ]
    }
   ],
   "source": [
    "for match in re.finditer(\"phone\",text):\n",
    "    print(match.span())"
   ]
  },
  {
   "cell_type": "code",
   "execution_count": 111,
   "id": "cc000107",
   "metadata": {},
   "outputs": [],
   "source": [
    "text=\"My telephone number is 777-555-1234\""
   ]
  },
  {
   "cell_type": "code",
   "execution_count": 112,
   "id": "68d5cbde",
   "metadata": {},
   "outputs": [
    {
     "data": {
      "text/plain": [
       "'My telephone number is 777-555-1234'"
      ]
     },
     "execution_count": 112,
     "metadata": {},
     "output_type": "execute_result"
    }
   ],
   "source": [
    "text"
   ]
  },
  {
   "cell_type": "code",
   "execution_count": 113,
   "id": "e7b3c675",
   "metadata": {},
   "outputs": [],
   "source": [
    "pattern=r'\\d\\d\\d-\\d\\d\\d-\\d\\d\\d\\d' #we can find the number using patterns"
   ]
  },
  {
   "cell_type": "code",
   "execution_count": 114,
   "id": "30b86b92",
   "metadata": {},
   "outputs": [],
   "source": [
    "phone_number=re.search(pattern,text)"
   ]
  },
  {
   "cell_type": "code",
   "execution_count": 115,
   "id": "93eb6c52",
   "metadata": {},
   "outputs": [
    {
     "data": {
      "text/plain": [
       "'777-555-1234'"
      ]
     },
     "execution_count": 115,
     "metadata": {},
     "output_type": "execute_result"
    }
   ],
   "source": [
    "phone_number.group()"
   ]
  },
  {
   "cell_type": "code",
   "execution_count": 116,
   "id": "a0e77bab",
   "metadata": {},
   "outputs": [],
   "source": [
    "pattern=r\"\\d{3}-\\d{3}-d{4}\""
   ]
  },
  {
   "cell_type": "code",
   "execution_count": 117,
   "id": "adcfe4d1",
   "metadata": {},
   "outputs": [],
   "source": [
    "mymatch=re.search(pattern,text)"
   ]
  },
  {
   "cell_type": "code",
   "execution_count": 118,
   "id": "0161a914",
   "metadata": {},
   "outputs": [
    {
     "ename": "AttributeError",
     "evalue": "'NoneType' object has no attribute 'group'",
     "output_type": "error",
     "traceback": [
      "\u001b[1;31m---------------------------------------------------------------------------\u001b[0m",
      "\u001b[1;31mAttributeError\u001b[0m                            Traceback (most recent call last)",
      "Input \u001b[1;32mIn [118]\u001b[0m, in \u001b[0;36m<cell line: 1>\u001b[1;34m()\u001b[0m\n\u001b[1;32m----> 1\u001b[0m \u001b[43mmymatch\u001b[49m\u001b[38;5;241;43m.\u001b[39;49m\u001b[43mgroup\u001b[49m()\n",
      "\u001b[1;31mAttributeError\u001b[0m: 'NoneType' object has no attribute 'group'"
     ]
    }
   ],
   "source": [
    "mymatch.group()"
   ]
  },
  {
   "cell_type": "code",
   "execution_count": 119,
   "id": "4383203f",
   "metadata": {},
   "outputs": [],
   "source": [
    "pattern=r\"(\\d{3})-(\\d{3})-(d{4})\""
   ]
  },
  {
   "cell_type": "code",
   "execution_count": 120,
   "id": "10ea367f",
   "metadata": {},
   "outputs": [],
   "source": [
    "mymatch=re.search(pattern,text)"
   ]
  },
  {
   "cell_type": "code",
   "execution_count": 121,
   "id": "a2d9d580",
   "metadata": {},
   "outputs": [
    {
     "ename": "AttributeError",
     "evalue": "'NoneType' object has no attribute 'group'",
     "output_type": "error",
     "traceback": [
      "\u001b[1;31m---------------------------------------------------------------------------\u001b[0m",
      "\u001b[1;31mAttributeError\u001b[0m                            Traceback (most recent call last)",
      "Input \u001b[1;32mIn [121]\u001b[0m, in \u001b[0;36m<cell line: 1>\u001b[1;34m()\u001b[0m\n\u001b[1;32m----> 1\u001b[0m \u001b[43mmymatch\u001b[49m\u001b[38;5;241;43m.\u001b[39;49m\u001b[43mgroup\u001b[49m(\u001b[38;5;241m1\u001b[39m)\n",
      "\u001b[1;31mAttributeError\u001b[0m: 'NoneType' object has no attribute 'group'"
     ]
    }
   ],
   "source": [
    "mymatch.group(1)"
   ]
  },
  {
   "cell_type": "code",
   "execution_count": 122,
   "id": "405ea2f7",
   "metadata": {},
   "outputs": [
    {
     "data": {
      "text/plain": [
       "<re.Match object; span=(5, 10), match='women'>"
      ]
     },
     "execution_count": 122,
     "metadata": {},
     "output_type": "execute_result"
    }
   ],
   "source": [
    "re.search(r\"man|women\",\"This women was here\")"
   ]
  },
  {
   "cell_type": "code",
   "execution_count": 123,
   "id": "95c2d548",
   "metadata": {},
   "outputs": [
    {
     "data": {
      "text/plain": [
       "['cat', 'hat', 'sat', 'lat']"
      ]
     },
     "execution_count": 123,
     "metadata": {},
     "output_type": "execute_result"
    }
   ],
   "source": [
    "re.findall(r\".at\",\"The cat in the hat sat splat\")"
   ]
  },
  {
   "cell_type": "code",
   "execution_count": 124,
   "id": "2167824d",
   "metadata": {},
   "outputs": [
    {
     "data": {
      "text/plain": [
       "['2']"
      ]
     },
     "execution_count": 124,
     "metadata": {},
     "output_type": "execute_result"
    }
   ],
   "source": [
    "re.findall(r\"\\d$\",\"This ends with a number 2\") #digits"
   ]
  },
  {
   "cell_type": "code",
   "execution_count": 125,
   "id": "b59d1782",
   "metadata": {},
   "outputs": [],
   "source": [
    "phrase=\"there are 3 numbers 34 inside 34 inside 5 this sentences\""
   ]
  },
  {
   "cell_type": "code",
   "execution_count": 126,
   "id": "26a5a944",
   "metadata": {},
   "outputs": [
    {
     "data": {
      "text/plain": [
       "['there are ', ' numbers ', ' inside ', ' inside ', ' this sentences']"
      ]
     },
     "execution_count": 126,
     "metadata": {},
     "output_type": "execute_result"
    }
   ],
   "source": [
    "re.findall(r\"[^\\d]+\",phrase)"
   ]
  },
  {
   "cell_type": "code",
   "execution_count": 127,
   "id": "7b7387ff",
   "metadata": {},
   "outputs": [],
   "source": [
    "test_phrase=\"this is test phrase \""
   ]
  },
  {
   "cell_type": "code",
   "execution_count": 128,
   "id": "3b82d6d7",
   "metadata": {},
   "outputs": [],
   "source": [
    "mylist=re.findall(r\"[^!.? ]+\",test_phrase)"
   ]
  },
  {
   "cell_type": "code",
   "execution_count": 129,
   "id": "8b2fd396",
   "metadata": {},
   "outputs": [
    {
     "data": {
      "text/plain": [
       "['this', 'is', 'test', 'phrase']"
      ]
     },
     "execution_count": 129,
     "metadata": {},
     "output_type": "execute_result"
    }
   ],
   "source": [
    "mylist"
   ]
  },
  {
   "cell_type": "code",
   "execution_count": 130,
   "id": "71775140",
   "metadata": {},
   "outputs": [
    {
     "data": {
      "text/plain": [
       "'thisistestphrase'"
      ]
     },
     "execution_count": 130,
     "metadata": {},
     "output_type": "execute_result"
    }
   ],
   "source": [
    "''.join(mylist)"
   ]
  },
  {
   "cell_type": "code",
   "execution_count": 131,
   "id": "9f37ae61",
   "metadata": {},
   "outputs": [],
   "source": [
    "text=\"Only find the hyphen-words.Were are the long-ish dash words?\""
   ]
  },
  {
   "cell_type": "code",
   "execution_count": 132,
   "id": "c018ac0c",
   "metadata": {},
   "outputs": [
    {
     "data": {
      "text/plain": [
       "['hyphen-words', 'long-ish']"
      ]
     },
     "execution_count": 132,
     "metadata": {},
     "output_type": "execute_result"
    }
   ],
   "source": [
    "re.findall(r'[\\w]+-[\\w]+',text)"
   ]
  },
  {
   "cell_type": "code",
   "execution_count": null,
   "id": "ad8863b1",
   "metadata": {},
   "outputs": [],
   "source": []
  }
 ],
 "metadata": {
  "kernelspec": {
   "display_name": "Python 3 (ipykernel)",
   "language": "python",
   "name": "python3"
  },
  "language_info": {
   "codemirror_mode": {
    "name": "ipython",
    "version": 3
   },
   "file_extension": ".py",
   "mimetype": "text/x-python",
   "name": "python",
   "nbconvert_exporter": "python",
   "pygments_lexer": "ipython3",
   "version": "3.9.12"
  }
 },
 "nbformat": 4,
 "nbformat_minor": 5
}
